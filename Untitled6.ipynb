{
 "cells": [
  {
   "cell_type": "code",
   "execution_count": 1,
   "id": "2481d0aa-f565-4d52-88a2-0dc2fdc3fc3a",
   "metadata": {},
   "outputs": [],
   "source": [
    "import apurva"
   ]
  },
  {
   "cell_type": "code",
   "execution_count": 2,
   "id": "42685bb4-1d9a-4283-b2ee-e5be0e065249",
   "metadata": {},
   "outputs": [
    {
     "data": {
      "text/plain": [
       "['HERE',\n",
       " 'Path',\n",
       " '__builtins__',\n",
       " '__cached__',\n",
       " '__doc__',\n",
       " '__file__',\n",
       " '__loader__',\n",
       " '__name__',\n",
       " '__package__',\n",
       " '__path__',\n",
       " '__spec__',\n",
       " '__version__',\n",
       " '_jupyter_labextension_paths',\n",
       " '_jupyter_server_extension_points',\n",
       " '_load_jupyter_server_extension',\n",
       " '_version',\n",
       " 'addd_something',\n",
       " 'data',\n",
       " 'fid',\n",
       " 'handlers',\n",
       " 'json',\n",
       " 'load_jupyter_server_extension',\n",
       " 'setup_handlers']"
      ]
     },
     "execution_count": 2,
     "metadata": {},
     "output_type": "execute_result"
    }
   ],
   "source": [
    "dir(apurva)"
   ]
  },
  {
   "cell_type": "code",
   "execution_count": 3,
   "id": "bf431958-00c1-4e0f-a82f-c80663733a74",
   "metadata": {},
   "outputs": [
    {
     "data": {
      "text/plain": [
       "30"
      ]
     },
     "execution_count": 3,
     "metadata": {},
     "output_type": "execute_result"
    }
   ],
   "source": [
    "apurva.addd_something(10,20)"
   ]
  },
  {
   "cell_type": "code",
   "execution_count": 4,
   "id": "e9bcd6c0-d85d-4e4c-a6f1-0024b0d38f5e",
   "metadata": {},
   "outputs": [
    {
     "data": {
      "text/plain": [
       "150"
      ]
     },
     "execution_count": 4,
     "metadata": {},
     "output_type": "execute_result"
    }
   ],
   "source": [
    "apurva.addd_something(130,20)\n"
   ]
  },
  {
   "cell_type": "code",
   "execution_count": null,
   "id": "bfad5243-8d64-4234-b856-a8b9a96982dd",
   "metadata": {},
   "outputs": [],
   "source": []
  }
 ],
 "metadata": {
  "kernelspec": {
   "display_name": "Python 3 (ipykernel)",
   "language": "python",
   "name": "python3"
  },
  "language_info": {
   "codemirror_mode": {
    "name": "ipython",
    "version": 3
   },
   "file_extension": ".py",
   "mimetype": "text/x-python",
   "name": "python",
   "nbconvert_exporter": "python",
   "pygments_lexer": "ipython3",
   "version": "3.11.6"
  }
 },
 "nbformat": 4,
 "nbformat_minor": 5
}
