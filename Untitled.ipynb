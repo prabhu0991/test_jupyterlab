{
 "cells": [
  {
   "cell_type": "code",
   "execution_count": 1,
   "id": "6d1f783b-5a35-46c9-8686-3d54281252cd",
   "metadata": {},
   "outputs": [
    {
     "name": "stdout",
     "output_type": "stream",
     "text": [
      "Test\n"
     ]
    }
   ],
   "source": [
    "print(\"Test\")\n"
   ]
  },
  {
   "cell_type": "code",
   "execution_count": 2,
   "id": "d0bf87f3-6401-4a94-a0d7-24b314de851c",
   "metadata": {},
   "outputs": [
    {
     "ename": "NameError",
     "evalue": "name 'apurva' is not defined",
     "output_type": "error",
     "traceback": [
      "\u001b[0;31m---------------------------------------------------------------------------\u001b[0m",
      "\u001b[0;31mNameError\u001b[0m                                 Traceback (most recent call last)",
      "Cell \u001b[0;32mIn[2], line 1\u001b[0m\n\u001b[0;32m----> 1\u001b[0m \u001b[43mapurva\u001b[49m\n",
      "\u001b[0;31mNameError\u001b[0m: name 'apurva' is not defined"
     ]
    }
   ],
   "source": [
    "apurva\n"
   ]
  },
  {
   "cell_type": "code",
   "execution_count": 3,
   "id": "dc3f4073-dee8-4b89-86fd-764c9de30605",
   "metadata": {},
   "outputs": [
    {
     "name": "stdout",
     "output_type": "stream",
     "text": [
      "Package                       Version      Editable project location\n",
      "----------------------------- ------------ ---------------------------------------\n",
      "annotated-types               0.6.0\n",
      "anyio                         4.0.0\n",
      "appnope                       0.1.3\n",
      "apurva                        0.1.0        /Users/prabhakaryadav/Downloads/new-ext\n",
      "argon2-cffi                   23.1.0\n",
      "argon2-cffi-bindings          21.2.0\n",
      "arrow                         1.3.0\n",
      "asttokens                     2.4.1\n",
      "async-lru                     2.0.4\n",
      "attrs                         23.1.0\n",
      "Babel                         2.13.1\n",
      "backports.functools-lru-cache 1.6.5\n",
      "bcrypt                        4.0.1\n",
      "beautifulsoup4                4.12.2\n",
      "bleach                        6.1.0\n",
      "Brotli                        1.1.0\n",
      "cached-property               1.5.2\n",
      "certifi                       2023.7.22\n",
      "cffi                          1.16.0\n",
      "charset-normalizer            3.3.2\n",
      "colorama                      0.4.6\n",
      "comm                          0.1.4\n",
      "copier                        9.0.1\n",
      "cryptography                  41.0.5\n",
      "debugpy                       1.8.0\n",
      "decorator                     5.1.1\n",
      "defusedxml                    0.7.1\n",
      "dunamai                       1.19.0\n",
      "entrypoints                   0.4\n",
      "exceptiongroup                1.1.3\n",
      "executing                     2.0.1\n",
      "fastjsonschema                2.18.1\n",
      "fqdn                          1.5.1\n",
      "funcy                         2.0\n",
      "hello-world                   0.2\n",
      "idna                          3.4\n",
      "importlib-metadata            6.8.0\n",
      "importlib-resources           6.1.1\n",
      "ipykernel                     6.26.0\n",
      "ipython                       8.17.2\n",
      "isoduration                   20.11.0\n",
      "jedi                          0.19.1\n",
      "Jinja2                        3.1.2\n",
      "jinja2-ansible-filters        1.3.2\n",
      "jinja2-time                   0.2.0\n",
      "json5                         0.9.14\n",
      "jsonpointer                   2.4\n",
      "jsonschema                    4.19.2\n",
      "jsonschema-specifications     2023.7.1\n",
      "jupyter_client                8.6.0\n",
      "jupyter_core                  5.5.0\n",
      "jupyter-events                0.9.0\n",
      "jupyter-lsp                   2.2.0\n",
      "jupyter_server                2.10.0\n",
      "jupyter_server_terminals      0.4.4\n",
      "jupyterlab                    4.0.8\n",
      "jupyterlab-pygments           0.2.2\n",
      "jupyterlab_server             2.25.1\n",
      "MarkupSafe                    2.1.3\n",
      "matplotlib-inline             0.1.6\n",
      "mistune                       3.0.2\n",
      "nbclient                      0.8.0\n",
      "nbconvert                     7.11.0\n",
      "nbformat                      5.9.2\n",
      "nest-asyncio                  1.5.8\n",
      "notebook_shim                 0.2.3\n",
      "overrides                     7.4.0\n",
      "packaging                     23.2\n",
      "pandocfilters                 1.5.0\n",
      "paramiko                      3.3.1\n",
      "parso                         0.8.3\n",
      "pathspec                      0.11.2\n",
      "pexpect                       4.8.0\n",
      "pickleshare                   0.7.5\n",
      "pip                           23.3.1\n",
      "pkgutil_resolve_name          1.3.10\n",
      "platformdirs                  4.0.0\n",
      "plumbum                       1.8.2\n",
      "prometheus-client             0.18.0\n",
      "prompt-toolkit                3.0.41\n",
      "psutil                        5.9.5\n",
      "ptyprocess                    0.7.0\n",
      "pure-eval                     0.2.2\n",
      "pycparser                     2.21\n",
      "pydantic                      2.0.3\n",
      "pydantic_core                 2.3.0\n",
      "Pygments                      2.16.1\n",
      "PyNaCl                        1.5.0\n",
      "pyobjc-core                   10.0\n",
      "pyobjc-framework-Cocoa        10.0\n",
      "PySocks                       1.7.1\n",
      "python-dateutil               2.8.2\n",
      "python-json-logger            2.0.7\n",
      "pytz                          2023.3.post1\n",
      "PyYAML                        6.0.1\n",
      "pyyaml-include                1.3\n",
      "pyzmq                         25.1.1\n",
      "questionary                   2.0.1\n",
      "referencing                   0.30.2\n",
      "requests                      2.31.0\n",
      "rfc3339-validator             0.1.4\n",
      "rfc3986-validator             0.1.1\n",
      "rpds-py                       0.12.0\n",
      "Send2Trash                    1.8.2\n",
      "setuptools                    68.2.2\n",
      "six                           1.16.0\n",
      "sniffio                       1.3.0\n",
      "soupsieve                     2.5\n",
      "stack-data                    0.6.2\n",
      "terminado                     0.18.0\n",
      "tinycss2                      1.2.1\n",
      "tomli                         2.0.1\n",
      "tornado                       6.3.3\n",
      "traitlets                     5.13.0\n",
      "types-python-dateutil         2.8.19.14\n",
      "typing_extensions             4.8.0\n",
      "typing-utils                  0.1.0\n",
      "uri-template                  1.3.0\n",
      "urllib3                       2.1.0\n",
      "wcwidth                       0.2.10\n",
      "webcolors                     1.13\n",
      "webencodings                  0.5.1\n",
      "websocket-client              1.6.4\n",
      "wheel                         0.41.3\n",
      "zipp                          3.17.0\n"
     ]
    }
   ],
   "source": [
    "!pip list"
   ]
  },
  {
   "cell_type": "code",
   "execution_count": 6,
   "id": "db3016d9-d1cd-4532-befb-9cb8737521ee",
   "metadata": {},
   "outputs": [
    {
     "ename": "NameError",
     "evalue": "name 'apurva' is not defined",
     "output_type": "error",
     "traceback": [
      "\u001b[0;31m---------------------------------------------------------------------------\u001b[0m",
      "\u001b[0;31mNameError\u001b[0m                                 Traceback (most recent call last)",
      "Cell \u001b[0;32mIn[6], line 1\u001b[0m\n\u001b[0;32m----> 1\u001b[0m \u001b[38;5;28mdir\u001b[39m(\u001b[43mapurva\u001b[49m)\n",
      "\u001b[0;31mNameError\u001b[0m: name 'apurva' is not defined"
     ]
    }
   ],
   "source": [
    "dir(apurva)"
   ]
  },
  {
   "cell_type": "code",
   "execution_count": 7,
   "id": "338f0282-69ab-41e8-820b-73dcd28e9438",
   "metadata": {},
   "outputs": [
    {
     "ename": "NameError",
     "evalue": "name 'jupyter_server' is not defined",
     "output_type": "error",
     "traceback": [
      "\u001b[0;31m---------------------------------------------------------------------------\u001b[0m",
      "\u001b[0;31mNameError\u001b[0m                                 Traceback (most recent call last)",
      "Cell \u001b[0;32mIn[7], line 1\u001b[0m\n\u001b[0;32m----> 1\u001b[0m \u001b[38;5;28;01mimport\u001b[39;00m \u001b[38;5;21;01mapurva\u001b[39;00m\n",
      "File \u001b[0;32m~/Downloads/new-ext/apurva/__init__.py:33\u001b[0m\n\u001b[1;32m     27\u001b[0m \u001b[38;5;28;01mdef\u001b[39;00m \u001b[38;5;21m_jupyter_server_extension_points\u001b[39m():\n\u001b[1;32m     28\u001b[0m     \u001b[38;5;28;01mreturn\u001b[39;00m [{\n\u001b[1;32m     29\u001b[0m         \u001b[38;5;124m\"\u001b[39m\u001b[38;5;124mmodule\u001b[39m\u001b[38;5;124m\"\u001b[39m: \u001b[38;5;124m\"\u001b[39m\u001b[38;5;124mapurva\u001b[39m\u001b[38;5;124m\"\u001b[39m\n\u001b[1;32m     30\u001b[0m     }]\n\u001b[0;32m---> 33\u001b[0m \u001b[38;5;28;01mdef\u001b[39;00m \u001b[38;5;21m_load_jupyter_server_extension\u001b[39m(server_app: \u001b[43mjupyter_server\u001b[49m\u001b[38;5;241m.\u001b[39mserverapp\u001b[38;5;241m.\u001b[39mServerApp):\n\u001b[1;32m     34\u001b[0m \u001b[38;5;250m    \u001b[39m\u001b[38;5;124;03m\"\"\"Registers the API handler to receive HTTP requests from the frontend extension.\u001b[39;00m\n\u001b[1;32m     35\u001b[0m \n\u001b[1;32m     36\u001b[0m \u001b[38;5;124;03m    Parameters\u001b[39;00m\n\u001b[0;32m   (...)\u001b[0m\n\u001b[1;32m     39\u001b[0m \u001b[38;5;124;03m        JupyterLab application instance\u001b[39;00m\n\u001b[1;32m     40\u001b[0m \u001b[38;5;124;03m    \"\"\"\u001b[39;00m\n\u001b[1;32m     41\u001b[0m     setup_handlers(server_app\u001b[38;5;241m.\u001b[39mweb_app)\n",
      "\u001b[0;31mNameError\u001b[0m: name 'jupyter_server' is not defined"
     ]
    }
   ],
   "source": [
    "import apurva"
   ]
  },
  {
   "cell_type": "code",
   "execution_count": null,
   "id": "2c2fed00-7b66-4d82-9671-3130445b406b",
   "metadata": {},
   "outputs": [],
   "source": []
  }
 ],
 "metadata": {
  "kernelspec": {
   "display_name": "Python 3 (ipykernel)",
   "language": "python",
   "name": "python3"
  },
  "language_info": {
   "codemirror_mode": {
    "name": "ipython",
    "version": 3
   },
   "file_extension": ".py",
   "mimetype": "text/x-python",
   "name": "python",
   "nbconvert_exporter": "python",
   "pygments_lexer": "ipython3",
   "version": "3.11.6"
  }
 },
 "nbformat": 4,
 "nbformat_minor": 5
}
